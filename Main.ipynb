{
 "cells": [
  {
   "cell_type": "code",
   "execution_count": 21,
   "metadata": {},
   "outputs": [],
   "source": [
    "#This program predicts stock prices by using ML- this is version one with time i will update it to more recent data \n",
    "\n",
    "#libraries \n",
    "\n",
    "import quandl \n",
    "import numpy as np\n",
    "from sklearn.linear_model import LinearRegression\n",
    "from sklearn.svm import SVR\n",
    "from sklearn.model_selection import train_test_split "
   ]
  },
  {
   "cell_type": "code",
   "execution_count": 23,
   "metadata": {},
   "outputs": [
    {
     "name": "stdout",
     "output_type": "stream",
     "text": [
      "               Open     High      Low    Close     Volume  Ex-Dividend  \\\n",
      "Date                                                                     \n",
      "2018-03-21  1586.45  1590.00  1563.17  1581.86  4667291.0          0.0   \n",
      "2018-03-22  1565.47  1573.85  1542.40  1544.10  6177737.0          0.0   \n",
      "2018-03-23  1539.01  1549.02  1495.36  1495.56  7843966.0          0.0   \n",
      "2018-03-26  1530.00  1556.99  1499.25  1555.86  5547618.0          0.0   \n",
      "2018-03-27  1572.40  1575.96  1482.32  1497.05  6793279.0          0.0   \n",
      "\n",
      "            Split Ratio  Adj. Open  Adj. High  Adj. Low  Adj. Close  \\\n",
      "Date                                                                  \n",
      "2018-03-21          1.0    1586.45    1590.00   1563.17     1581.86   \n",
      "2018-03-22          1.0    1565.47    1573.85   1542.40     1544.10   \n",
      "2018-03-23          1.0    1539.01    1549.02   1495.36     1495.56   \n",
      "2018-03-26          1.0    1530.00    1556.99   1499.25     1555.86   \n",
      "2018-03-27          1.0    1572.40    1575.96   1482.32     1497.05   \n",
      "\n",
      "            Adj. Volume  \n",
      "Date                     \n",
      "2018-03-21    4667291.0  \n",
      "2018-03-22    6177737.0  \n",
      "2018-03-23    7843966.0  \n",
      "2018-03-26    5547618.0  \n",
      "2018-03-27    6793279.0  \n"
     ]
    }
   ],
   "source": [
    "#get the Stock Data \n",
    "\n",
    "df = quandl.get(\"WIKI/AMZN\")\n",
    "\n",
    "# View the data \n",
    "\n",
    "print(df.tail(5))"
   ]
  },
  {
   "cell_type": "code",
   "execution_count": 24,
   "metadata": {},
   "outputs": [
    {
     "name": "stdout",
     "output_type": "stream",
     "text": [
      "            Adj. Close\n",
      "Date                  \n",
      "1997-05-16    1.729167\n",
      "1997-05-19    1.708333\n",
      "1997-05-20    1.635833\n",
      "1997-05-21    1.427500\n"
     ]
    }
   ],
   "source": [
    " #Get the ADJ close price \n",
    "\n",
    "df = df[[\"Adj. Close\"]]\n",
    "\n",
    "#view the new data \n",
    "print(df.head(4))"
   ]
  },
  {
   "cell_type": "code",
   "execution_count": 25,
   "metadata": {},
   "outputs": [
    {
     "name": "stdout",
     "output_type": "stream",
     "text": [
      "            Adj. Close  Predictions\n",
      "Date                               \n",
      "2018-03-21     1581.86          NaN\n",
      "2018-03-22     1544.10          NaN\n",
      "2018-03-23     1495.56          NaN\n",
      "2018-03-26     1555.86          NaN\n",
      "2018-03-27     1497.05          NaN\n"
     ]
    }
   ],
   "source": [
    "#creating a varible to hold the forcasted data \n",
    "forecast_out = 30\n",
    "\n",
    "#create a colum for the indepndent varible \n",
    "df['Predictions'] = df[[\"Adj. Close\"]].shift(-forecast_out)\n",
    "print(df.tail())"
   ]
  },
  {
   "cell_type": "code",
   "execution_count": 26,
   "metadata": {},
   "outputs": [
    {
     "name": "stdout",
     "output_type": "stream",
     "text": [
      "[[   1.72916667]\n",
      " [   1.70833333]\n",
      " [   1.63583333]\n",
      " ...\n",
      " [1350.47      ]\n",
      " [1338.99      ]\n",
      " [1386.23      ]]\n"
     ]
    }
   ],
   "source": [
    "#creating the independent data (X)\n",
    "# convert the dataframe to a numpy array \n",
    "X = np.array(df.drop(['Predictions'],1))\n",
    "\n",
    "#remove the last \" n \" rows \n",
    "\n",
    "X = X[:- forecast_out]\n",
    "print(X)"
   ]
  },
  {
   "cell_type": "code",
   "execution_count": 27,
   "metadata": {},
   "outputs": [
    {
     "name": "stdout",
     "output_type": "stream",
     "text": [
      "[1.54166667e+00 1.51583333e+00 1.58833333e+00 ... 1.49556000e+03\n",
      " 1.55586000e+03 1.49705000e+03]\n"
     ]
    }
   ],
   "source": [
    "# create the dependent dataset (Y)\n",
    "\n",
    "Y = np.array(df['Predictions'])\n",
    "\n",
    "#Get all of the Y values except the last 'n ' rows \n",
    "\n",
    "Y = Y[:- forecast_out]\n",
    "print(Y)"
   ]
  },
  {
   "cell_type": "code",
   "execution_count": 28,
   "metadata": {},
   "outputs": [],
   "source": [
    "#split the data into 80% trainning and 20% testing\n",
    "x_train, x_test, y_train, y_test = train_test_split(X, Y, test_size=0.2)"
   ]
  },
  {
   "cell_type": "code",
   "execution_count": 29,
   "metadata": {},
   "outputs": [
    {
     "data": {
      "text/plain": [
       "SVR(C=1000.0, cache_size=200, coef0=0.0, degree=3, epsilon=0.1, gamma=0.1,\n",
       "    kernel='rbf', max_iter=-1, shrinking=True, tol=0.001, verbose=False)"
      ]
     },
     "execution_count": 29,
     "metadata": {},
     "output_type": "execute_result"
    }
   ],
   "source": [
    "#Create and train the Surpport Vector Regressor (SVR)\n",
    "svr_rbf = SVR(kernel='rbf', C=1e3, gamma=0.1)\n",
    "svr_rbf.fit(x_train, y_train)   "
   ]
  },
  {
   "cell_type": "code",
   "execution_count": 30,
   "metadata": {},
   "outputs": [
    {
     "name": "stdout",
     "output_type": "stream",
     "text": [
      "svm confidence:  0.9350003680677446\n"
     ]
    }
   ],
   "source": [
    "#test the accuracy\n",
    "svm_confidence = svr_rbf.score(x_test, y_test)\n",
    "print('svm confidence: ', svm_confidence)"
   ]
  },
  {
   "cell_type": "code",
   "execution_count": 31,
   "metadata": {},
   "outputs": [
    {
     "data": {
      "text/plain": [
       "LinearRegression(copy_X=True, fit_intercept=True, n_jobs=None, normalize=False)"
      ]
     },
     "execution_count": 31,
     "metadata": {},
     "output_type": "execute_result"
    }
   ],
   "source": [
    "# Create and train the linear reg Model\n",
    "lr = LinearRegression()\n",
    "# train the model \n",
    "lr.fit(x_train, y_train)"
   ]
  },
  {
   "cell_type": "code",
   "execution_count": 32,
   "metadata": {},
   "outputs": [
    {
     "name": "stdout",
     "output_type": "stream",
     "text": [
      "lr confidence:  0.9878381354055565\n"
     ]
    }
   ],
   "source": [
    "#test the accuracy\n",
    "lr_confidence = lr.score(x_test, y_test)\n",
    "print('lr confidence: ', lr_confidence)"
   ]
  },
  {
   "cell_type": "code",
   "execution_count": 16,
   "metadata": {},
   "outputs": [
    {
     "name": "stdout",
     "output_type": "stream",
     "text": [
      "[[173.15]\n",
      " [179.52]\n",
      " [179.96]\n",
      " [177.36]\n",
      " [176.01]\n",
      " [177.91]\n",
      " [178.99]\n",
      " [183.29]\n",
      " [184.93]\n",
      " [181.46]\n",
      " [178.32]\n",
      " [175.94]\n",
      " [176.62]\n",
      " [180.4 ]\n",
      " [179.78]\n",
      " [183.71]\n",
      " [182.34]\n",
      " [185.23]\n",
      " [184.76]\n",
      " [181.88]\n",
      " [184.19]\n",
      " [183.86]\n",
      " [185.09]\n",
      " [172.56]\n",
      " [168.15]\n",
      " [169.39]\n",
      " [164.89]\n",
      " [159.39]\n",
      " [160.06]\n",
      " [152.19]]\n"
     ]
    }
   ],
   "source": [
    "#test the prediction \n",
    "x_forecast = np.array(df.drop(['Predictions'],1))[-forecast_out:]\n",
    "print(x_forecast)"
   ]
  },
  {
   "cell_type": "code",
   "execution_count": 33,
   "metadata": {},
   "outputs": [
    {
     "name": "stdout",
     "output_type": "stream",
     "text": [
      "[180.80766162 187.57624369 188.04377526 185.2810887  183.84661683\n",
      " 185.86550316 187.01308066 191.5821392  193.32475687 189.63763289\n",
      " 186.30115758 183.77223681 184.4947856  188.51130683 187.85251234\n",
      " 192.02841933 190.57269603 193.6435284  193.14411967 190.08391302\n",
      " 192.53845377 192.1878051  193.49476835 180.18074428 175.49480285\n",
      " 176.81239182 172.03081893 166.18667429 166.89859736 158.53615766]\n",
      "[182.81761571 188.42680199 190.37950312 183.12450769 178.97515081\n",
      " 183.32690384 185.80695296 190.031939   192.29062225 190.17648935\n",
      " 183.71358692 178.67242469 181.56377955 191.44912388 189.65822643\n",
      " 190.85335726 188.88559004 192.35694609 192.19832161 189.29530386\n",
      " 191.62987383 191.1222689  192.34241332 182.97540634 174.43591415\n",
      " 180.27277842 184.80406486 171.30912771 171.35897191 169.28178701]\n"
     ]
    }
   ],
   "source": [
    "#print the Predictions for the next 30 days using Linear regression \n",
    "lr_prediction =lr.predict(x_forecast)\n",
    "print(lr_prediction)\n",
    "\n",
    "#print the SVM predictions for the next 30 days \n",
    "svm_prediction = svr_rbf.predict(x_forecast)\n",
    "print(svm_prediction)"
   ]
  },
  {
   "cell_type": "code",
   "execution_count": null,
   "metadata": {},
   "outputs": [],
   "source": []
  }
 ],
 "metadata": {
  "kernelspec": {
   "display_name": "Python 3",
   "language": "python",
   "name": "python3"
  },
  "language_info": {
   "codemirror_mode": {
    "name": "ipython",
    "version": 3
   },
   "file_extension": ".py",
   "mimetype": "text/x-python",
   "name": "python",
   "nbconvert_exporter": "python",
   "pygments_lexer": "ipython3",
   "version": "3.7.4"
  }
 },
 "nbformat": 4,
 "nbformat_minor": 2
}
